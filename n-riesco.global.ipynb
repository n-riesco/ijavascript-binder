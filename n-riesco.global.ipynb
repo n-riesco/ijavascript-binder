{
 "metadata": {
  "kernelspec": {
   "display_name": "Javascript (Node.js)",
   "language": "javascript",
   "name": "javascript"
  },
  "language_info": {
   "file_extension": "js",
   "mimetype": "application/javascript",
   "name": "javascript",
   "version": "0.10.25"
  },
  "name": ""
 },
 "nbformat": 3,
 "nbformat_minor": 0,
 "worksheets": [
  {
   "cells": [
    {
     "cell_type": "markdown",
     "metadata": {},
     "source": [
      "# The `global` object\n",
      "\n",
      "Javascript provides a unique `global` object accessible to all execution contexts. The `global` object has a number of properties predefined. Some of this properties are required by the [ECMA standard](http://www.ecma-international.org/ecma-262/5.1/) and some are specific to the platform. See [here](https://nodejs.org/api/globals.html) the relevant documentation for Node.js and [here](https://developer.mozilla.org/en-US/docs/Web/API/Window) for the HTML DOM.\n"
     ]
    },
    {
     "cell_type": "markdown",
     "metadata": {},
     "source": [
      "## How to access properties defined in the global object\n",
      "\n",
      "Javascript provides two ways to access the properties in the `global` object:\n",
      "- explicit access\n",
      "- implicit access"
     ]
    },
    {
     "cell_type": "markdown",
     "metadata": {},
     "source": [
      "### Explicit access\n",
      "\n",
      "Javascript platforms may include a `global` property whose value is the `global` object itself. In the HTML DOM, this property is `window`; in Node.js, the property is `global` property. This `global` property can be used to access properties in the `global` object from different execution contexts, for example:"
     ]
    },
    {
     "cell_type": "code",
     "collapsed": false,
     "input": [
      "(function() {\n",
      "    global.myGlobalProperty = \"Hello, World!\";\n",
      "})()\n",
      "global.myGlobalProperty;"
     ],
     "language": "python",
     "metadata": {},
     "outputs": [
      {
       "html": [
        "<pre>&#39;Hello, World!&#39;</pre>"
       ],
       "metadata": {},
       "output_type": "pyout",
       "prompt_number": 1,
       "text": [
        "'Hello, World!'"
       ]
      }
     ],
     "prompt_number": 1
    },
    {
     "cell_type": "markdown",
     "metadata": {},
     "source": [
      "### Implicit access\n",
      "\n",
      "`NaN` and `isNaN` are properties defined in the `global` object. `NaN` is set to the \"Not-a-Number\" value defined by the [IEEE 754 standard](http://dx.doi.org/10.1109/IEEESTD.2008.4610935) for floating-point numbers. And `isNaN` is set to a function that returns whether a number is `NaN`. Here is an example that illustrates how these properties are implicitly accessible from different execution contexts:"
     ]
    },
    {
     "cell_type": "code",
     "collapsed": false,
     "input": [
      "(function f() {\n",
      "    return isNaN(NaN);\n",
      "})()"
     ],
     "language": "python",
     "metadata": {},
     "outputs": [
      {
       "html": [
        "<pre>true</pre>"
       ],
       "metadata": {},
       "output_type": "pyout",
       "prompt_number": 2,
       "text": [
        "true"
       ]
      }
     ],
     "prompt_number": 2
    },
    {
     "cell_type": "markdown",
     "metadata": {},
     "source": [
      "Note that although accessing `global` properties in this way is very convenient, it is also riddle with unexpected side effects:"
     ]
    },
    {
     "cell_type": "code",
     "collapsed": false,
     "input": [
      "(function() {\n",
      "    var isNaN = function(number) {\n",
      "        return !global.isNaN(number);\n",
      "    };\n",
      "    return isNaN(NaN);\n",
      "})()"
     ],
     "language": "python",
     "metadata": {},
     "outputs": [
      {
       "html": [
        "<pre>false</pre>"
       ],
       "metadata": {},
       "output_type": "pyout",
       "prompt_number": 3,
       "text": [
        "false"
       ]
      }
     ],
     "prompt_number": 3
    },
    {
     "cell_type": "code",
     "collapsed": false,
     "input": [
      "(function() {\n",
      "    isNaN = function(number) {\n",
      "        return !global.isNaN(number);\n",
      "    };\n",
      "    return isNaN(NaN);\n",
      "})()"
     ],
     "language": "python",
     "metadata": {},
     "outputs": [
      {
       "ename": "TypeError",
       "evalue": "Cannot call method 'split' of undefined",
       "output_type": "pyerr",
       "traceback": [
        "TypeError: Cannot call method 'split' of undefined",
        "    at formatError ([eval]:174:40)",
        "    at sendError ([eval]:97:14)",
        "    at onMessage ([eval]:74:13)",
        "    at process.EventEmitter.emit (events.js:98:17)",
        "    at handleMessage (child_process.js:318:10)",
        "    at Pipe.channel.onread (child_process.js:345:11)"
       ]
      }
     ],
     "prompt_number": 4
    }
   ],
   "metadata": {}
  }
 ]
}
