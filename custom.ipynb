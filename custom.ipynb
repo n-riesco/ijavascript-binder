{
 "metadata": {
  "kernelspec": {
   "display_name": "Javascript (Node.js)",
   "language": "javascript",
   "name": "javascript"
  },
  "language_info": {
   "file_extension": "js",
   "mimetype": "application/javascript",
   "name": "javascript",
   "version": "0.10.25"
  },
  "name": ""
 },
 "nbformat": 3,
 "nbformat_minor": 0,
 "worksheets": [
  {
   "cells": [
    {
     "cell_type": "markdown",
     "metadata": {},
     "source": [
      "# Custom Output\n",
      "\n",
      "This tutorial describes the patterns available in IJavascript for customising output."
     ]
    },
    {
     "cell_type": "markdown",
     "metadata": {},
     "source": [
      "## Types of output\n",
      "\n",
      "The Jupyter messaging protocol defines three types of output resulting from an execution request:\n",
      "\n",
      "* **the execution result**, which the notebook shows preceeded by a numbered label (`Out[n]:`);\n",
      "\n",
      "* **the standard output stream** (`stdout`), which is usually shown above the execution result;\n",
      "\n",
      "* and **the standard error stream** (`stderr`), which is usually shown above the execution result in a pink background.\n",
      "\n",
      "Whereas the standard streams are plain text, the execution result admits outputs in a number of MIME formats. The following sections describe how to customise the output of an execution result."
     ]
    },
    {
     "cell_type": "markdown",
     "metadata": {},
     "source": [
      "## Customising the plain text output of a class\n",
      "\n",
      "### (`MyClass.prototype.inspect`)\n",
      "\n",
      "IJavascript uses the Node.js function `util.inspect()` to generate the `text/plain` output of an execution result, as illustrated in the following example:"
     ]
    },
    {
     "cell_type": "code",
     "collapsed": false,
     "input": [
      "function Person(name) {\n",
      "    this.name = name;\n",
      "}\n",
      "\n",
      "var peter = new Person(\"Peter\");\n",
      "\n",
      "var util = require(\"util\");\n",
      "console.log(util.inspect(peter));  // shown on stdout\n",
      "peter;                             // shown as an execution result"
     ],
     "language": "python",
     "metadata": {},
     "outputs": [
      {
       "output_type": "stream",
       "stream": "stdout",
       "text": [
        "Person { name: 'Peter' }\n"
       ]
      },
      {
       "metadata": {},
       "output_type": "pyout",
       "prompt_number": 1,
       "text": [
        "Person { name: 'Peter' }"
       ]
      }
     ],
     "prompt_number": 1
    },
    {
     "cell_type": "markdown",
     "metadata": {},
     "source": [
      "Node.js defines the following pattern to customise the output of `util.inspect()`:"
     ]
    },
    {
     "cell_type": "code",
     "collapsed": false,
     "input": [
      "Person.prototype.inspect = function inspect(depth) {\n",
      "    return \"Person named \" + this.name;\n",
      "};\n",
      "\n",
      "peter;"
     ],
     "language": "python",
     "metadata": {},
     "outputs": [
      {
       "metadata": {},
       "output_type": "pyout",
       "prompt_number": 2,
       "text": [
        "Person named Peter"
       ]
      }
     ],
     "prompt_number": 2
    },
    {
     "cell_type": "markdown",
     "metadata": {},
     "source": [
      "## Customising the MIME output of a class\n",
      "\n",
      "Similarly to the Node.js `inspect` pattern, IJavascript specifies the following conventions:\n",
      "\n",
      "### `MyClass.prototype._toHtml()`\n",
      "\n",
      "If defined, IJavascript expects this method to return a string with the `text/html` representation of an instance of MyClass.\n",
      "\n",
      "### `MyClass.prototype._toSvg()`\n",
      "\n",
      "If defined, IJavascript expects this method to return a string with the `image/svg+xml` representation of an instance of MyClass.\n",
      "\n",
      "### `MyClass.prototype._toPng()`\n",
      "\n",
      "If defined, IJavascript expects this method to return a `base64`-encoded string with the `image/png` representation of an instance of MyClass.\n",
      "\n",
      "### `MyClass.prototype._toJpeg()`\n",
      "\n",
      "If defined, IJavascript expects this method to return a `base64`-encoded string with the `image/jpeg` representation of an instance of MyClass.\n",
      "\n",
      "### `MyClass.prototype._toMime()`\n",
      "\n",
      "If defined, IJavascript expects this method to return an object with the MIME representations of an instance of MyClass, i.e. `{ mimeType1: string1, mimeType2: string2, ...}`.\n",
      "\n",
      "Below is an example for `text/html`. See the next section, for an example that encodes a binary image into `base64` string."
     ]
    },
    {
     "cell_type": "code",
     "collapsed": false,
     "input": [
      "Person.prototype._toHtml = function _toHtml() {\n",
      "    var style = (\n",
      "        \"display:inline-block;\" +\n",
      "        \"padding:0.25em;\" +\n",
      "        \"background:#ccc;\" +\n",
      "        \"border: 1px solid #888;\" +\n",
      "        \"border-radius:0.25em;\" +\n",
      "        \"box-shadow: 0.8em 0.4em 0.4em black;\"\n",
      "    );\n",
      "    return (\n",
      "        \"<div style='\" + style + \"'>\" +\n",
      "        this.inspect() +\n",
      "        \"</div>\"\n",
      "    );\n",
      "};\n",
      "\n",
      "peter;"
     ],
     "language": "python",
     "metadata": {},
     "outputs": [
      {
       "html": [
        "<div style='display:inline-block;padding:0.25em;background:#ccc;border: 1px solid #888;border-radius:0.25em;box-shadow: 0.8em 0.4em 0.4em black;'>Person named Peter</div>"
       ],
       "metadata": {},
       "output_type": "pyout",
       "prompt_number": 3,
       "text": [
        "Person named Peter"
       ]
      }
     ],
     "prompt_number": 3
    },
    {
     "cell_type": "markdown",
     "metadata": {},
     "source": [
      "## Setting the output using the global object `$$`\n",
      "\n",
      "IJavascript defines the global object `$$` to help output results asynchronously. This functionality can also be used in synchronous execution."
     ]
    },
    {
     "cell_type": "markdown",
     "metadata": {},
     "source": [
      "### `$$.html(htmlString)`"
     ]
    },
    {
     "cell_type": "code",
     "collapsed": false,
     "input": [
      "$$.html(\"<div style='background-color:olive;width:50px;height:50px'></div>\");"
     ],
     "language": "python",
     "metadata": {},
     "outputs": [
      {
       "html": [
        "<div style='background-color:olive;width:50px;height:50px'></div>"
       ],
       "metadata": {},
       "output_type": "pyout",
       "prompt_number": 4
      }
     ],
     "prompt_number": 4
    },
    {
     "cell_type": "markdown",
     "metadata": {},
     "source": [
      "### `$$.svg(svgString)`"
     ]
    },
    {
     "cell_type": "code",
     "collapsed": false,
     "input": [
      "$$.svg(\"<svg><rect width=80 height=80 style='fill: orange;'/></svg>\");"
     ],
     "language": "python",
     "metadata": {},
     "outputs": [
      {
       "metadata": {},
       "output_type": "pyout",
       "prompt_number": 5,
       "svg": [
        "<svg><rect width=80 height=80 style='fill: orange;'/></svg>"
       ]
      }
     ],
     "prompt_number": 5
    },
    {
     "cell_type": "markdown",
     "metadata": {},
     "source": [
      "### `$$.png(base64String)`\n",
      "\n",
      "IJavascript can also output pictures in `PNG` and `JPEG` formats. However, this\n",
      "formats are binary and need to be encoded in `base64`. See below an example with a PNG file:"
     ]
    },
    {
     "cell_type": "code",
     "collapsed": false,
     "input": [
      "$$.png(require(\"fs\").readFileSync(\"image.png\").toString(\"base64\"));"
     ],
     "language": "python",
     "metadata": {},
     "outputs": [
      {
       "metadata": {},
       "output_type": "pyout",
       "png": "[encoded data removed]",
       "prompt_number": 6
      }
     ],
     "prompt_number": 6
    },
    {
     "cell_type": "markdown",
     "metadata": {},
     "source": [
      "### `$$.jpeg(base64String)`\n",
      "\n",
      "Similarly with `JPEG` files:"
     ]
    },
    {
     "cell_type": "code",
     "collapsed": false,
     "input": [
      "$$.jpeg(require(\"fs\").readFileSync(\"image.jpg\").toString(\"base64\"));"
     ],
     "language": "python",
     "metadata": {},
     "outputs": [
      {
       "jpeg": "[encoded data removed]",
       "metadata": {},
       "output_type": "pyout",
       "prompt_number": 7
      }
     ],
     "prompt_number": 7
    },
    {
     "cell_type": "markdown",
     "metadata": {},
     "source": [
      "### `$$.mime(mimeBundle)`\n",
      "\n",
      "IJavascript also provides the global function `$$.mime(mimeBundle)` to display an output in any formats understood by the Jupyter frontend:"
     ]
    },
    {
     "cell_type": "code",
     "collapsed": false,
     "input": [
      "$$.mime({\n",
      "    \"text/html\": \"<div style='background-color:olive;width:50px;height:50px'></div>\",\n",
      "});"
     ],
     "language": "python",
     "metadata": {},
     "outputs": [
      {
       "html": [
        "<div style='background-color:olive;width:50px;height:50px'></div>"
       ],
       "metadata": {},
       "output_type": "pyout",
       "prompt_number": 8
      }
     ],
     "prompt_number": 8
    }
   ],
   "metadata": {}
  }
 ]
}