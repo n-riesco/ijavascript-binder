{
 "metadata": {
  "kernelspec": {
   "display_name": "Javascript (Node.js)",
   "language": "javascript",
   "name": "javascript"
  },
  "language_info": {
   "file_extension": "js",
   "mimetype": "application/javascript",
   "name": "javascript",
   "version": "0.10.25"
  },
  "name": ""
 },
 "nbformat": 3,
 "nbformat_minor": 0,
 "worksheets": [
  {
   "cells": [
    {
     "cell_type": "markdown",
     "metadata": {},
     "source": [
      "# Keyword `this`\n",
      "\n",
      "In Javascript, the keyword `this` is sometimes misunderstood. Although its use within the context of Object Oriented Programming (OOP) is clear, Javascript sometimes goes beyond. In this short tutorial, I will present a number of examples to help the reader identify three contexts in which the keyword `this` is used:\n",
      "\n",
      "* Object Oriented Programming\n",
      "* Unbound functions\n",
      "* Bound functions"
     ]
    },
    {
     "cell_type": "markdown",
     "metadata": {},
     "source": [
      "## Use of `this` in Object Oriented Programming\n",
      "\n",
      "The main purpose of `this` in Javascript is to serve Object Oriented Programming. It is used by the methods of a class to access the properties of a class instance. The following example illustrates this use:"
     ]
    },
    {
     "cell_type": "code",
     "collapsed": false,
     "input": [
      "/**\n",
      " * Person represents a person that has been given a name\n",
      " * @class\n",
      " * @param {String} name\n",
      " */\n",
      "function Person(name) {\n",
      "    this.name = name;\n",
      "}\n",
      "\n",
      "/**\n",
      " * Say name\n",
      " * @method\n",
      " */\n",
      "Person.prototype.sayName =  function() {\n",
      "    return \"My name is \" + this.name;\n",
      "}\n",
      "\n",
      "var john = new Person(\"John\");\n",
      "john.sayName();                       "
     ],
     "language": "python",
     "metadata": {},
     "outputs": [
      {
       "html": [
        "<pre>&#39;My name is John&#39;</pre>"
       ],
       "metadata": {},
       "output_type": "pyout",
       "prompt_number": 1,
       "text": [
        "'My name is John'"
       ]
      }
     ],
     "prompt_number": 1
    },
    {
     "cell_type": "markdown",
     "metadata": {},
     "source": [
      "The above snippet defines class `Person` with a constructor that takes a name and the method `sayName()` that prints the name by using the keyword `this`."
     ]
    },
    {
     "cell_type": "markdown",
     "metadata": {},
     "source": [
      "## Use of `this` in unbound functions\n",
      "\n",
      "Things start getting complicated if we take full advantage of Javascript. The following snippet uses the method `sayName()` to define an unbound function. Within unbound functions, the keyword `this` is set to the `global` object. See in the below snippet that the property `name` is undefined in the `global` object:"
     ]
    },
    {
     "cell_type": "code",
     "collapsed": false,
     "input": [
      "var unboundFunction = Person.prototype.sayName;\n",
      "unboundFunction();"
     ],
     "language": "python",
     "metadata": {},
     "outputs": [
      {
       "html": [
        "<pre>&#39;My name is undefined&#39;</pre>"
       ],
       "metadata": {},
       "output_type": "pyout",
       "prompt_number": 2,
       "text": [
        "'My name is undefined'"
       ]
      }
     ],
     "prompt_number": 2
    },
    {
     "cell_type": "markdown",
     "metadata": {},
     "source": [
      "## Use of `this` in bound functions\n",
      "\n",
      "Javascript lets you bind an unbound function to an object. A bound function sets the keyword `this` to the bound object. Below is an example:"
     ]
    },
    {
     "cell_type": "code",
     "collapsed": false,
     "input": [
      "var boundFunction = Person.prototype.sayName.bind(john);\n",
      "boundFunction();"
     ],
     "language": "python",
     "metadata": {},
     "outputs": [
      {
       "html": [
        "<pre>&#39;My name is John&#39;</pre>"
       ],
       "metadata": {},
       "output_type": "pyout",
       "prompt_number": 3,
       "text": [
        "'My name is John'"
       ]
      }
     ],
     "prompt_number": 3
    }
   ],
   "metadata": {}
  }
 ]
}
